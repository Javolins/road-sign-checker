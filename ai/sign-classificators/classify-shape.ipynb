{
 "cells": [
  {
   "cell_type": "code",
   "execution_count": null,
   "metadata": {
    "collapsed": true
   },
   "outputs": [],
   "source": [
    "from fastai.vision.widgets import *\n",
    "btn_upload = widgets.FileUpload()\n",
    "btn_upload"
   ]
  },
  {
   "cell_type": "code",
   "execution_count": null,
   "outputs": [],
   "source": [
    "from fastai.vision.core import PILImage\n",
    "from PIL_OpenCV_conversions import PILToOpenCV\n",
    "from crop_image import getFinalMaskFromBGRImage\n",
    "from image_analisys_functions import getMaskContour\n",
    "from image_analisys_functions import getEllipsisityDeviation\n",
    "from image_analisys_functions import getShape\n",
    "from image_analisys_functions import getNumberOfVertices\n",
    "from image_analisys_functions import ImageSize\n",
    "\n",
    "imagePIL = PILImage.create(btn_upload.data[-1])\n",
    "\n",
    "BGRImage = PILToOpenCV(imagePIL)\n",
    "finalMask = getFinalMaskFromBGRImage(BGRImage)\n",
    "imageSize = ImageSize.createFromOpenCVImage(finalMask)\n",
    "mainContour = getMaskContour(finalMask)\n",
    "result = {}\n",
    "result['ellipsisityDev'] = getEllipsisityDeviation(mainContour)\n",
    "result['noVertices'] = getNumberOfVertices(mainContour, imageSize)\n",
    "result['shape'] =getShape(mainContour, imageSize)\n",
    "result"
   ],
   "metadata": {
    "collapsed": false
   }
  }
 ],
 "metadata": {
  "kernelspec": {
   "display_name": "Python 3",
   "language": "python",
   "name": "python3"
  },
  "language_info": {
   "codemirror_mode": {
    "name": "ipython",
    "version": 2
   },
   "file_extension": ".py",
   "mimetype": "text/x-python",
   "name": "python",
   "nbconvert_exporter": "python",
   "pygments_lexer": "ipython2",
   "version": "2.7.6"
  }
 },
 "nbformat": 4,
 "nbformat_minor": 0
}

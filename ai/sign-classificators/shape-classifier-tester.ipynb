{
 "cells": [
  {
   "cell_type": "code",
   "execution_count": null,
   "metadata": {
    "collapsed": true
   },
   "outputs": [],
   "source": [
    "from fastai.vision.widgets import *\n",
    "btn_upload = widgets.FileUpload()\n",
    "btn_upload"
   ]
  },
  {
   "cell_type": "code",
   "execution_count": null,
   "outputs": [],
   "source": [
    "from fastai.vision.core import PILImage\n",
    "from PIL_OpenCV_conversions import PILToOpenCV\n",
    "from OpenCV_plots import plotOpenCV\n",
    "\n",
    "imagePIL = PILImage.create(btn_upload.data[-1])\n",
    "\n",
    "BGRImage = PILToOpenCV(imagePIL)\n",
    "plotOpenCV(BGRImage)"
   ],
   "metadata": {
    "collapsed": false
   }
  },
  {
   "cell_type": "code",
   "execution_count": null,
   "outputs": [],
   "source": [
    "import cv2\n",
    "from crop_image import findMainColor\n",
    "from crop_image import getInsideMask\n",
    "from crop_image import getFinalMask\n",
    "HSV_image = cv2.cvtColor(BGRImage, cv2.COLOR_BGR2HSV)\n",
    "HSV_mean = findMainColor(HSV_image)\n",
    "inside_mask = getInsideMask(HSV_image, HSV_mean)\n",
    "finalMask = getFinalMask(HSV_image, inside_mask)\n",
    "plotOpenCV(finalMask)"
   ],
   "metadata": {
    "collapsed": false
   }
  },
  {
   "cell_type": "code",
   "execution_count": null,
   "outputs": [],
   "source": [
    "contours, hierarchy = cv2.findContours(finalMask, cv2.RETR_EXTERNAL, cv2.CHAIN_APPROX_SIMPLE)\n",
    "contours"
   ],
   "metadata": {
    "collapsed": false
   }
  },
  {
   "cell_type": "code",
   "execution_count": null,
   "outputs": [],
   "source": [
    "from image_analisys_functions import getEllipsisity\n",
    "mainContour = contours[0]\n",
    "ellipsisity = getEllipsisity(mainContour)\n",
    "ellipsisity"
   ],
   "metadata": {
    "collapsed": false
   }
  },
  {
   "cell_type": "code",
   "execution_count": null,
   "outputs": [],
   "source": [
    "from image_analisys_functions import getNumberOfVertices\n",
    "getNumberOfVertices(mainContour)"
   ],
   "metadata": {
    "collapsed": false
   }
  },
  {
   "cell_type": "code",
   "execution_count": null,
   "outputs": [],
   "source": [
    "from image_analisys_functions import getShape\n",
    "from image_analisys_functions import ImageSize\n",
    "imageSize = ImageSize.createFromOpenCVImage(BGRImage)\n",
    "shape = getShape(mainContour, imageSize)\n",
    "shape"
   ],
   "metadata": {
    "collapsed": false
   }
  }
 ],
 "metadata": {
  "kernelspec": {
   "display_name": "Python 3",
   "language": "python",
   "name": "python3"
  },
  "language_info": {
   "codemirror_mode": {
    "name": "ipython",
    "version": 2
   },
   "file_extension": ".py",
   "mimetype": "text/x-python",
   "name": "python",
   "nbconvert_exporter": "python",
   "pygments_lexer": "ipython2",
   "version": "2.7.6"
  }
 },
 "nbformat": 4,
 "nbformat_minor": 0
}

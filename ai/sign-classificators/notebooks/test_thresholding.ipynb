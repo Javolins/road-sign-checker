{
 "cells": [
  {
   "cell_type": "code",
   "execution_count": 1,
   "metadata": {
    "collapsed": true
   },
   "outputs": [
    {
     "data": {
      "text/plain": "FileUpload(value={}, description='Upload')",
      "application/vnd.jupyter.widget-view+json": {
       "version_major": 2,
       "version_minor": 0,
       "model_id": "fbc64f5b840c4d4ba6996c4106b5a094"
      }
     },
     "metadata": {},
     "output_type": "display_data"
    }
   ],
   "source": [
    "from fastai.vision.widgets import *\n",
    "btn_upload = widgets.FileUpload()\n",
    "btn_upload"
   ]
  },
  {
   "cell_type": "code",
   "execution_count": 2,
   "outputs": [
    {
     "ename": "IndexError",
     "evalue": "list index out of range",
     "output_type": "error",
     "traceback": [
      "\u001B[1;31m---------------------------------------------------------------------------\u001B[0m",
      "\u001B[1;31mIndexError\u001B[0m                                Traceback (most recent call last)",
      "Cell \u001B[1;32mIn[2], line 5\u001B[0m\n\u001B[0;32m      2\u001B[0m \u001B[38;5;28;01mfrom\u001B[39;00m \u001B[38;5;21;01mPIL_OpenCV_conversions\u001B[39;00m \u001B[38;5;28;01mimport\u001B[39;00m PILToOpenCV\n\u001B[0;32m      3\u001B[0m \u001B[38;5;28;01mfrom\u001B[39;00m \u001B[38;5;21;01mOpenCV_plots\u001B[39;00m \u001B[38;5;28;01mimport\u001B[39;00m plotOpenCV\n\u001B[1;32m----> 5\u001B[0m imagePIL \u001B[38;5;241m=\u001B[39m PILImage\u001B[38;5;241m.\u001B[39mcreate(\u001B[43mbtn_upload\u001B[49m\u001B[38;5;241;43m.\u001B[39;49m\u001B[43mdata\u001B[49m\u001B[43m[\u001B[49m\u001B[38;5;241;43m-\u001B[39;49m\u001B[38;5;241;43m1\u001B[39;49m\u001B[43m]\u001B[49m)\n\u001B[0;32m      7\u001B[0m BGRImage \u001B[38;5;241m=\u001B[39m PILToOpenCV(imagePIL)\n\u001B[0;32m      8\u001B[0m plotOpenCV(BGRImage)\n",
      "\u001B[1;31mIndexError\u001B[0m: list index out of range"
     ]
    }
   ],
   "source": [
    "from fastai.vision.core import PILImage\n",
    "from PIL_OpenCV_conversions import PILToOpenCV\n",
    "from OpenCV_plots import plotOpenCV\n",
    "\n",
    "imagePIL = PILImage.create(btn_upload.data[-1])\n",
    "\n",
    "BGRImage = PILToOpenCV(imagePIL)\n",
    "plotOpenCV(BGRImage)"
   ],
   "metadata": {
    "collapsed": false
   }
  },
  {
   "cell_type": "code",
   "execution_count": null,
   "outputs": [],
   "source": [
    "import cv2\n",
    "from crop_image import findMainColor\n",
    "from crop_image import getInsideMask\n",
    "from crop_image import getFinalMask\n",
    "HSV_image = cv2.cvtColor(BGRImage, cv2.COLOR_BGR2HSV)\n",
    "HSV_mean = findMainColor(HSV_image)\n",
    "inside_mask = getInsideMask(HSV_image, HSV_mean)\n",
    "plotOpenCV(inside_mask)"
   ],
   "metadata": {
    "collapsed": false
   }
  },
  {
   "cell_type": "code",
   "execution_count": null,
   "outputs": [],
   "source": [
    "finalMask = getFinalMask(HSV_image, inside_mask)\n",
    "plotOpenCV(finalMask)"
   ],
   "metadata": {
    "collapsed": false
   }
  },
  {
   "cell_type": "code",
   "execution_count": null,
   "outputs": [],
   "source": [
    "from dataset_prepare import applyMagentaBackground\n",
    "signWithMagendaBakcground = applyMagentaBackground(BGRImage, finalMask)\n",
    "plotOpenCV(signWithMagendaBakcground)"
   ],
   "metadata": {
    "collapsed": false
   }
  }
 ],
 "metadata": {
  "kernelspec": {
   "display_name": "Python 3",
   "language": "python",
   "name": "python3"
  },
  "language_info": {
   "codemirror_mode": {
    "name": "ipython",
    "version": 2
   },
   "file_extension": ".py",
   "mimetype": "text/x-python",
   "name": "python",
   "nbconvert_exporter": "python",
   "pygments_lexer": "ipython2",
   "version": "2.7.6"
  }
 },
 "nbformat": 4,
 "nbformat_minor": 0
}
